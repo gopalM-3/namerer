{
  "cells": [
    {
      "cell_type": "markdown",
      "metadata": {
        "id": "ZVEBFB5EqY6s"
      },
      "source": [
        "### Paper referred to\n",
        "https://www.jmlr.org/papers/volume3/bengio03a/bengio03a.pdf"
      ]
    },
    {
      "cell_type": "code",
      "execution_count": 1,
      "metadata": {
        "id": "c7SEV2Bufvkz"
      },
      "outputs": [],
      "source": [
        "import numpy as np\n",
        "import pandas as pd\n",
        "import matplotlib.pyplot as plt\n",
        "%matplotlib inline\n",
        "import torch\n",
        "import torch.nn.functional as F\n",
        "from sklearn.model_selection import train_test_split"
      ]
    },
    {
      "cell_type": "code",
      "execution_count": 2,
      "metadata": {
        "colab": {
          "base_uri": "https://localhost:8080/",
          "height": 206
        },
        "id": "AK7P56jIf6If",
        "outputId": "144b598c-5447-4ece-b9c2-90b13a9329e5"
      },
      "outputs": [
        {
          "data": {
            "text/html": [
              "\n",
              "  <div id=\"df-09d9121c-52d5-443d-b5f1-25358e14b4c7\">\n",
              "    <div class=\"colab-df-container\">\n",
              "      <div>\n",
              "<style scoped>\n",
              "    .dataframe tbody tr th:only-of-type {\n",
              "        vertical-align: middle;\n",
              "    }\n",
              "\n",
              "    .dataframe tbody tr th {\n",
              "        vertical-align: top;\n",
              "    }\n",
              "\n",
              "    .dataframe thead th {\n",
              "        text-align: right;\n",
              "    }\n",
              "</style>\n",
              "<table border=\"1\" class=\"dataframe\">\n",
              "  <thead>\n",
              "    <tr style=\"text-align: right;\">\n",
              "      <th></th>\n",
              "      <th>Unnamed: 0</th>\n",
              "      <th>Name</th>\n",
              "    </tr>\n",
              "  </thead>\n",
              "  <tbody>\n",
              "    <tr>\n",
              "      <th>0</th>\n",
              "      <td>0</td>\n",
              "      <td>aabid</td>\n",
              "    </tr>\n",
              "    <tr>\n",
              "      <th>1</th>\n",
              "      <td>1</td>\n",
              "      <td>aabida</td>\n",
              "    </tr>\n",
              "    <tr>\n",
              "      <th>2</th>\n",
              "      <td>2</td>\n",
              "      <td>aachal</td>\n",
              "    </tr>\n",
              "    <tr>\n",
              "      <th>3</th>\n",
              "      <td>3</td>\n",
              "      <td>aadesh</td>\n",
              "    </tr>\n",
              "    <tr>\n",
              "      <th>4</th>\n",
              "      <td>4</td>\n",
              "      <td>aadil</td>\n",
              "    </tr>\n",
              "  </tbody>\n",
              "</table>\n",
              "</div>\n",
              "      <button class=\"colab-df-convert\" onclick=\"convertToInteractive('df-09d9121c-52d5-443d-b5f1-25358e14b4c7')\"\n",
              "              title=\"Convert this dataframe to an interactive table.\"\n",
              "              style=\"display:none;\">\n",
              "        \n",
              "  <svg xmlns=\"http://www.w3.org/2000/svg\" height=\"24px\"viewBox=\"0 0 24 24\"\n",
              "       width=\"24px\">\n",
              "    <path d=\"M0 0h24v24H0V0z\" fill=\"none\"/>\n",
              "    <path d=\"M18.56 5.44l.94 2.06.94-2.06 2.06-.94-2.06-.94-.94-2.06-.94 2.06-2.06.94zm-11 1L8.5 8.5l.94-2.06 2.06-.94-2.06-.94L8.5 2.5l-.94 2.06-2.06.94zm10 10l.94 2.06.94-2.06 2.06-.94-2.06-.94-.94-2.06-.94 2.06-2.06.94z\"/><path d=\"M17.41 7.96l-1.37-1.37c-.4-.4-.92-.59-1.43-.59-.52 0-1.04.2-1.43.59L10.3 9.45l-7.72 7.72c-.78.78-.78 2.05 0 2.83L4 21.41c.39.39.9.59 1.41.59.51 0 1.02-.2 1.41-.59l7.78-7.78 2.81-2.81c.8-.78.8-2.07 0-2.86zM5.41 20L4 18.59l7.72-7.72 1.47 1.35L5.41 20z\"/>\n",
              "  </svg>\n",
              "      </button>\n",
              "      \n",
              "  <style>\n",
              "    .colab-df-container {\n",
              "      display:flex;\n",
              "      flex-wrap:wrap;\n",
              "      gap: 12px;\n",
              "    }\n",
              "\n",
              "    .colab-df-convert {\n",
              "      background-color: #E8F0FE;\n",
              "      border: none;\n",
              "      border-radius: 50%;\n",
              "      cursor: pointer;\n",
              "      display: none;\n",
              "      fill: #1967D2;\n",
              "      height: 32px;\n",
              "      padding: 0 0 0 0;\n",
              "      width: 32px;\n",
              "    }\n",
              "\n",
              "    .colab-df-convert:hover {\n",
              "      background-color: #E2EBFA;\n",
              "      box-shadow: 0px 1px 2px rgba(60, 64, 67, 0.3), 0px 1px 3px 1px rgba(60, 64, 67, 0.15);\n",
              "      fill: #174EA6;\n",
              "    }\n",
              "\n",
              "    [theme=dark] .colab-df-convert {\n",
              "      background-color: #3B4455;\n",
              "      fill: #D2E3FC;\n",
              "    }\n",
              "\n",
              "    [theme=dark] .colab-df-convert:hover {\n",
              "      background-color: #434B5C;\n",
              "      box-shadow: 0px 1px 3px 1px rgba(0, 0, 0, 0.15);\n",
              "      filter: drop-shadow(0px 1px 2px rgba(0, 0, 0, 0.3));\n",
              "      fill: #FFFFFF;\n",
              "    }\n",
              "  </style>\n",
              "\n",
              "      <script>\n",
              "        const buttonEl =\n",
              "          document.querySelector('#df-09d9121c-52d5-443d-b5f1-25358e14b4c7 button.colab-df-convert');\n",
              "        buttonEl.style.display =\n",
              "          google.colab.kernel.accessAllowed ? 'block' : 'none';\n",
              "\n",
              "        async function convertToInteractive(key) {\n",
              "          const element = document.querySelector('#df-09d9121c-52d5-443d-b5f1-25358e14b4c7');\n",
              "          const dataTable =\n",
              "            await google.colab.kernel.invokeFunction('convertToInteractive',\n",
              "                                                     [key], {});\n",
              "          if (!dataTable) return;\n",
              "\n",
              "          const docLinkHtml = 'Like what you see? Visit the ' +\n",
              "            '<a target=\"_blank\" href=https://colab.research.google.com/notebooks/data_table.ipynb>data table notebook</a>'\n",
              "            + ' to learn more about interactive tables.';\n",
              "          element.innerHTML = '';\n",
              "          dataTable['output_type'] = 'display_data';\n",
              "          await google.colab.output.renderOutput(dataTable, element);\n",
              "          const docLink = document.createElement('div');\n",
              "          docLink.innerHTML = docLinkHtml;\n",
              "          element.appendChild(docLink);\n",
              "        }\n",
              "      </script>\n",
              "    </div>\n",
              "  </div>\n",
              "  "
            ],
            "text/plain": [
              "   Unnamed: 0    Name\n",
              "0           0   aabid\n",
              "1           1  aabida\n",
              "2           2  aachal\n",
              "3           3  aadesh\n",
              "4           4   aadil"
            ]
          },
          "execution_count": 2,
          "metadata": {},
          "output_type": "execute_result"
        }
      ],
      "source": [
        "df = pd.read_csv(\"./Indian_Names.csv\")\n",
        "df.dropna(inplace=True)\n",
        "df.head()"
      ]
    },
    {
      "cell_type": "code",
      "execution_count": 3,
      "metadata": {
        "colab": {
          "base_uri": "https://localhost:8080/",
          "height": 0
        },
        "id": "EF_TgEe8gR_J",
        "outputId": "3d2f0787-f490-45bb-ca09-b2bb98aafffe"
      },
      "outputs": [
        {
          "data": {
            "text/plain": [
              "['aabid',\n",
              " 'aabida',\n",
              " 'aachal',\n",
              " 'aadesh',\n",
              " 'aadil',\n",
              " 'aadish',\n",
              " 'aaditya',\n",
              " 'aaenab',\n",
              " 'aafreen']"
            ]
          },
          "execution_count": 3,
          "metadata": {},
          "output_type": "execute_result"
        }
      ],
      "source": [
        "names = df[\"Name\"].values\n",
        "names = [i for i in names if i.isalpha()]\n",
        "names[:9]"
      ]
    },
    {
      "cell_type": "code",
      "execution_count": 4,
      "metadata": {
        "colab": {
          "base_uri": "https://localhost:8080/",
          "height": 0
        },
        "id": "1sBp8zUZgVf6",
        "outputId": "2ce3aeb5-2417-4507-8b89-5859d958a78d"
      },
      "outputs": [
        {
          "name": "stdout",
          "output_type": "stream",
          "text": [
            "{1: 'a', 2: 'b', 3: 'c', 4: 'd', 5: 'e', 6: 'f', 7: 'g', 8: 'h', 9: 'i', 10: 'j', 11: 'k', 12: 'l', 13: 'm', 14: 'n', 15: 'o', 16: 'p', 17: 'q', 18: 'r', 19: 's', 20: 't', 21: 'u', 22: 'v', 23: 'w', 24: 'x', 25: 'y', 26: 'z', 0: '.'}\n"
          ]
        }
      ],
      "source": [
        "chars = sorted(list(set(\"\".join(names))))\n",
        "stoi = {s: i + 1 for i, s in enumerate(chars)}\n",
        "stoi[\".\"] = 0\n",
        "itos = {i: s for s, i in stoi.items()}\n",
        "print(itos)"
      ]
    },
    {
      "cell_type": "code",
      "execution_count": 5,
      "metadata": {
        "id": "vNGfun1Thc7g"
      },
      "outputs": [],
      "source": [
        "# building the dataset for the network\n",
        "\n",
        "blockSize = 3 # the size of the context to be considered for predicting the next character\n",
        "X, y = [], []\n",
        "\n",
        "for n in names:\n",
        "    # print(n)\n",
        "    context = [0] * blockSize\n",
        "    for ch in n + \".\":\n",
        "        idx = stoi[ch]\n",
        "        X.append(context)\n",
        "        y.append(idx)\n",
        "        # print(\"\".join(itos[i] for i in context), \"-->\", itos[idx])\n",
        "        context = context[1:] + [idx]\n",
        "\n",
        "X = torch.tensor(X)\n",
        "y = torch.tensor(y)"
      ]
    },
    {
      "cell_type": "code",
      "execution_count": 6,
      "metadata": {
        "id": "NipQNGNux5te"
      },
      "outputs": [],
      "source": [
        "X_train, X_test, y_train, y_test = train_test_split(X, y, test_size=0.1, random_state=42)\n",
        "\n",
        "X_train, X_val, y_train, y_val = train_test_split(X_train, y_train, test_size=0.111, random_state=42) # 0.111 x 0.9 = 0.1"
      ]
    },
    {
      "cell_type": "code",
      "execution_count": 7,
      "metadata": {
        "colab": {
          "base_uri": "https://localhost:8080/",
          "height": 0
        },
        "id": "umq3Dk-ysWYw",
        "outputId": "e9c8eea8-6ee3-4dcb-bae1-a1f93f61266a"
      },
      "outputs": [
        {
          "data": {
            "text/plain": [
              "(torch.Size([38052, 3]), torch.Size([38052]))"
            ]
          },
          "execution_count": 7,
          "metadata": {},
          "output_type": "execute_result"
        }
      ],
      "source": [
        "X_train.shape, y_train.shape # dataset"
      ]
    },
    {
      "cell_type": "code",
      "execution_count": 8,
      "metadata": {
        "id": "6-9yeytHijXG"
      },
      "outputs": [],
      "source": [
        "C = torch.randn((27, 10), requires_grad=True) # embedding table in 2 dimensions\n",
        "emb = C[X_train]\n",
        "\n",
        "# first layer of neurons\n",
        "W1 = torch.randn((30, 200), requires_grad=True)\n",
        "b1 = torch.randn(200, requires_grad=True)\n",
        "\n",
        "# second hidden layer of neurons\n",
        "h = torch.tanh(emb.view(-1, 30) @ W1 + b1)\n",
        "\n",
        "# third (utput) layer of neurons\n",
        "W2 = torch.randn((200, 27), requires_grad=True)\n",
        "b2 = torch.randn(27, requires_grad=True)\n",
        "\n",
        "parameters = [C, W1, b1, W2, b2]"
      ]
    },
    {
      "cell_type": "code",
      "execution_count": 9,
      "metadata": {
        "colab": {
          "base_uri": "https://localhost:8080/",
          "height": 0
        },
        "id": "BnWcs-ULsN66",
        "outputId": "38b35918-6747-4765-97e8-82fd786e3e0e"
      },
      "outputs": [
        {
          "data": {
            "text/plain": [
              "11897"
            ]
          },
          "execution_count": 9,
          "metadata": {},
          "output_type": "execute_result"
        }
      ],
      "source": [
        "sum(p.nelement() for p in parameters) # total number of parameters"
      ]
    },
    {
      "cell_type": "code",
      "execution_count": 10,
      "metadata": {
        "id": "KliLwrzD94VO"
      },
      "outputs": [],
      "source": [
        "steps = []\n",
        "lossesTrain = []\n",
        "lossesVal = []"
      ]
    },
    {
      "cell_type": "code",
      "execution_count": 11,
      "metadata": {
        "colab": {
          "base_uri": "https://localhost:8080/",
          "height": 0
        },
        "id": "V8uSpDNCtNla",
        "outputId": "53db370f-de02-47c5-ad48-c7f6a00e06a5"
      },
      "outputs": [
        {
          "name": "stdout",
          "output_type": "stream",
          "text": [
            "2.0846714973449707\n"
          ]
        }
      ],
      "source": [
        "for i in range(30000):\n",
        "\n",
        "    # constructing the mini batch\n",
        "    idx = torch.randint(0, X_train.shape[0], (256, ))\n",
        "\n",
        "    # forward pass\n",
        "    emb = C[X_train[idx]]\n",
        "    h = torch.tanh(emb.view(-1, 30) @ W1 + b1)\n",
        "    logits = h @ W2 + b2\n",
        "    loss_train = F.cross_entropy(logits, y_train[idx])\n",
        "\n",
        "    emb = C[X_val]\n",
        "    h = torch.tanh(emb.view(-1, 30) @ W1 + b1)\n",
        "    logits = h @ W2 + b2\n",
        "    loss_val = F.cross_entropy(logits, y_val)\n",
        "\n",
        "    # backward pass\n",
        "    for p in parameters:\n",
        "        p.grad = None\n",
        "    loss_train.backward()\n",
        "    # update\n",
        "    lr = 0\n",
        "    if i < 10000:\n",
        "        lr = 0.1\n",
        "    elif i > 10000 and i < 20000:\n",
        "        lr = 0.01\n",
        "    else:\n",
        "        lr = 0.001\n",
        "    for p in parameters:\n",
        "        p.data += -lr * p.grad\n",
        "    \n",
        "    steps.append(i)\n",
        "    lossesTrain.append(loss_train.item())\n",
        "    lossesVal.append(loss_val.item())\n",
        "\n",
        "print(loss_train.item()) # mini batch loss"
      ]
    },
    {
      "cell_type": "code",
      "execution_count": 12,
      "metadata": {
        "colab": {
          "base_uri": "https://localhost:8080/",
          "height": 0
        },
        "id": "ORNxJSsAJdJo",
        "outputId": "2d217971-b97c-4290-f8b1-765acc64aba9"
      },
      "outputs": [
        {
          "name": "stdout",
          "output_type": "stream",
          "text": [
            "2.0508482456207275\n"
          ]
        }
      ],
      "source": [
        "# further training by decaying lr further\n",
        "\n",
        "for i in range(10000):\n",
        "\n",
        "    # constructing the mini batch\n",
        "    idx = torch.randint(0, X_train.shape[0], (256, ))\n",
        "\n",
        "    # forward pass\n",
        "    emb = C[X_train[idx]]\n",
        "    h = torch.tanh(emb.view(-1, 30) @ W1 + b1)\n",
        "    logits = h @ W2 + b2\n",
        "    loss_train = F.cross_entropy(logits, y_train[idx])\n",
        "\n",
        "    emb = C[X_val]\n",
        "    h = torch.tanh(emb.view(-1, 30) @ W1 + b1)\n",
        "    logits = h @ W2 + b2\n",
        "    loss_val = F.cross_entropy(logits, y_val)\n",
        "\n",
        "    # backward pass\n",
        "    for p in parameters:\n",
        "        p.grad = None\n",
        "    loss_train.backward()\n",
        "    # update\n",
        "    lr = 0.0001\n",
        "    for p in parameters:\n",
        "        p.data += -lr * p.grad\n",
        "    \n",
        "    steps.append(i)\n",
        "    lossesTrain.append(loss_train.item())\n",
        "    lossesVal.append(loss_val.item())\n",
        "\n",
        "print(loss_train.item()) # mini batch loss"
      ]
    },
    {
      "cell_type": "code",
      "execution_count": 13,
      "metadata": {
        "colab": {
          "base_uri": "https://localhost:8080/",
          "height": 0
        },
        "id": "WkqqV-jxufvp",
        "outputId": "39148e2a-4a9b-4524-b853-7404e06ffdf2"
      },
      "outputs": [
        {
          "name": "stdout",
          "output_type": "stream",
          "text": [
            "2.113219976425171\n"
          ]
        }
      ],
      "source": [
        "emb = C[X_train]\n",
        "h = torch.tanh(emb.view(-1, 30) @ W1 + b1)\n",
        "logits = h @ W2 + b2\n",
        "loss = F.cross_entropy(logits, y_train)\n",
        "print(loss.item()) # final training loss"
      ]
    },
    {
      "cell_type": "code",
      "execution_count": 14,
      "metadata": {
        "colab": {
          "base_uri": "https://localhost:8080/",
          "height": 0
        },
        "id": "KTdOV84fvuh_",
        "outputId": "0a393893-787b-4ce3-de19-448731f9607a"
      },
      "outputs": [
        {
          "name": "stdout",
          "output_type": "stream",
          "text": [
            "2.31799054145813\n"
          ]
        }
      ],
      "source": [
        "emb = C[X_val]\n",
        "h = torch.tanh(emb.view(-1, 30) @ W1 + b1)\n",
        "logits = h @ W2 + b2\n",
        "loss = F.cross_entropy(logits, y_val)\n",
        "print(loss.item()) # final validation loss"
      ]
    },
    {
      "cell_type": "code",
      "execution_count": 15,
      "metadata": {
        "colab": {
          "base_uri": "https://localhost:8080/",
          "height": 489
        },
        "id": "l4wNRKfg0shv",
        "outputId": "b529ec0c-cf16-4735-bf36-53899c828f94"
      },
      "outputs": [
        {
          "data": {
            "text/plain": [
              "<matplotlib.legend.Legend at 0x7f495a226580>"
            ]
          },
          "execution_count": 15,
          "metadata": {},
          "output_type": "execute_result"
        },
        {
          "data": {
            "image/png": "[encoded data removed]",
            "text/plain": [
              "<Figure size 640x480 with 1 Axes>"
            ]
          },
          "metadata": {},
          "output_type": "display_data"
        }
      ],
      "source": [
        "plt.plot(steps, lossesTrain, label=\"Training loss\")\n",
        "plt.plot(steps, lossesVal, label=\"Validation loss\")\n",
        "plt.title(\"Loss function\")\n",
        "plt.xlabel(\"Steps\")\n",
        "plt.ylabel(\"Loss\")\n",
        "plt.legend(loc=\"center\")"
      ]
    },
    {
      "cell_type": "code",
      "execution_count": 16,
      "metadata": {
        "colab": {
          "base_uri": "https://localhost:8080/",
          "height": 522
        },
        "id": "Q9is8pfe2mj4",
        "outputId": "ccbff877-4c8b-453c-b4c2-9e4db9e4b787"
      },
      "outputs": [
        {
          "data": {
            "image/png": "[encoded data removed]",
            "text/plain": [
              "<Figure size 600x600 with 1 Axes>"
            ]
          },
          "metadata": {},
          "output_type": "display_data"
        }
      ],
      "source": [
        "# visualize dimensions 0 and 1 of the embedding matrix C for all characters\n",
        "plt.figure(figsize=(6, 6))\n",
        "plt.scatter(C[:, 0].data, C[:, 1].data, s=200)\n",
        "for i in range(C.shape[0]):\n",
        "    plt.text(C[i, 0].item(), C[i, 1].item(), itos[i], ha=\"center\", va=\"center\", color=\"white\")\n",
        "plt.grid(\"minor\")"
      ]
    },
    {
      "cell_type": "code",
      "execution_count": 17,
      "metadata": {
        "colab": {
          "base_uri": "https://localhost:8080/",
          "height": 0
        },
        "id": "V8WGvNaR4zcv",
        "outputId": "26e55e1b-f03e-4f29-cb4b-d6b70bdd3671"
      },
      "outputs": [
        {
          "name": "stdout",
          "output_type": "stream",
          "text": [
            "kay.\n",
            "amar.\n",
            "miti.\n",
            "rub.\n",
            "javeeramercya.\n",
            "sir.\n",
            "imarpia.\n",
            "parveela.\n",
            "joginkki.\n",
            "asnsh.\n",
            "mimaufbari.\n",
            "shak.\n",
            "sakfarmaanta.\n",
            "neem.\n",
            "ifakji.\n",
            "shandu.\n",
            "ram.\n",
            "kin.\n",
            "pulpe.\n",
            "silcy.\n"
          ]
        }
      ],
      "source": [
        "# sample from the model\n",
        "\n",
        "for _ in range(20):\n",
        "    \n",
        "    out = []\n",
        "    context = [0] * blockSize # initialize with all ...\n",
        "    while True:\n",
        "      emb = C[torch.tensor([context])] # (1, blockSize, d)\n",
        "      h = torch.tanh(emb.view(1, -1) @ W1 + b1)\n",
        "      logits = h @ W2 + b2\n",
        "      probs = F.softmax(logits, dim=1)\n",
        "      idx = torch.multinomial(probs, num_samples=1, ).item()\n",
        "      context = context[1:] + [idx]\n",
        "      out.append(idx)\n",
        "      if idx == 0:\n",
        "        break\n",
        "    \n",
        "    print(\"\".join(itos[i] for i in out))"
      ]
    }
  ],
  "metadata": {
    "accelerator": "GPU",
    "colab": {
      "provenance": []
    },
    "gpuClass": "standard",
    "kernelspec": {
      "display_name": "Python 3",
      "name": "python3"
    },
    "language_info": {
      "name": "python"
    }
  },
  "nbformat": 4,
  "nbformat_minor": 0
}
